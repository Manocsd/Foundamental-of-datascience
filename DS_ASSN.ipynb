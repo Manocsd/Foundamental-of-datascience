{
 "cells": [
  {
   "cell_type": "code",
   "execution_count": 3,
   "id": "c68618ef-4887-4320-af65-4906e06d842b",
   "metadata": {},
   "outputs": [],
   "source": [
    "import pandas as pd\n",
    "import numpy as np"
   ]
  },
  {
   "cell_type": "code",
   "execution_count": 6,
   "id": "3fd12dad-53a3-49fc-b6d4-74ddcc12f0dd",
   "metadata": {},
   "outputs": [],
   "source": [
    "Employee_data = pd.DataFrame({\n",
    "    'EmployeeID': [101, 102, 103, 104, 105],\n",
    "    'Name': ['Alice', 'Bob', 'Charlie', 'David', 'Eva'],\n",
    "    'Department': ['HR', 'IT', 'Finance', 'IT', 'HR'],\n",
    "    'Salary': [50000, 60000, 55000, 65000, 58000]\n",
    "})\n"
   ]
  },
  {
   "cell_type": "code",
   "execution_count": 9,
   "id": "ca2ff7a6-d945-46c1-91a6-3b6872eafd62",
   "metadata": {},
   "outputs": [
    {
     "name": "stdout",
     "output_type": "stream",
     "text": [
      "      Name  Salary\n",
      "0    Alice   50000\n",
      "1      Bob   60000\n",
      "2  Charlie   55000\n",
      "3    David   65000\n",
      "4      Eva   58000\n"
     ]
    }
   ],
   "source": [
    "print(Employee_data[['Name','Salary']])"
   ]
  },
  {
   "cell_type": "code",
   "execution_count": 15,
   "id": "a2616b3f-ec66-45bf-97ee-bff33b3f3990",
   "metadata": {},
   "outputs": [
    {
     "name": "stdout",
     "output_type": "stream",
     "text": [
      "62500.0\n"
     ]
    }
   ],
   "source": [
    "average_salary = Employee_data[Employee_data['Department']=='IT']['Salary'].mean()\n",
    "print(average_salary)"
   ]
  },
  {
   "cell_type": "code",
   "execution_count": 16,
   "id": "2fbf83b6-920d-423d-a5bd-26e861b95882",
   "metadata": {},
   "outputs": [
    {
     "name": "stdout",
     "output_type": "stream",
     "text": [
      "   EmployeeID     Name Department  Salary   Bonus\n",
      "0         101    Alice         HR   50000  5000.0\n",
      "1         102      Bob         IT   60000  6000.0\n",
      "2         103  Charlie    Finance   55000  5500.0\n",
      "3         104    David         IT   65000  6500.0\n",
      "4         105      Eva         HR   58000  5800.0\n"
     ]
    }
   ],
   "source": [
    "Employee_data['Bonus'] = Employee_data['Salary']*0.1\n",
    "print(Employee_data)"
   ]
  },
  {
   "cell_type": "code",
   "execution_count": 19,
   "id": "cc20cc8d-abbe-4a92-9d09-358bda0c7b4e",
   "metadata": {},
   "outputs": [
    {
     "name": "stdout",
     "output_type": "stream",
     "text": [
      "    ID     Name Department  Salary   Bonus\n",
      "0  101    Alice         HR   50000  5000.0\n",
      "1  102      Bob         IT   60000  6000.0\n",
      "2  103  Charlie    Finance   55000  5500.0\n",
      "3  104    David         IT   65000  6500.0\n",
      "4  105      Eva         HR   58000  5800.0\n"
     ]
    }
   ],
   "source": [
    "Employee_data.rename(columns={'EmployeeID': 'ID'}, inplace=True)\n",
    "print(Employee_data)"
   ]
  },
  {
   "cell_type": "code",
   "execution_count": 24,
   "id": "2ae91e7f-3c50-4d40-8af1-d7be1e1711a7",
   "metadata": {},
   "outputs": [
    {
     "name": "stdout",
     "output_type": "stream",
     "text": [
      "    ID     Name  Salary   Bonus\n",
      "0  101    Alice   50000  5000.0\n",
      "1  102      Bob   60000  6000.0\n",
      "2  103  Charlie   55000  5500.0\n",
      "3  104    David   65000  6500.0\n",
      "4  105      Eva   58000  5800.0\n"
     ]
    }
   ],
   "source": [
    "print(Employee_data)"
   ]
  },
  {
   "cell_type": "code",
   "execution_count": 25,
   "id": "72b36172-04ed-45df-9bdc-0dd5a85060ee",
   "metadata": {},
   "outputs": [],
   "source": [
    "sales_data = pd.DataFrame({\n",
    "    'Month': ['Jan', 'Feb', 'Mar', 'Apr', 'May'],\n",
    "    'Product_A': [150, 200, 250, 300, 350],\n",
    "    'Product_B': [300, 250, 200, 150, 100]\n",
    "})"
   ]
  },
  {
   "cell_type": "code",
   "execution_count": 26,
   "id": "78ce9a9b-660e-40d7-8067-9111af21c180",
   "metadata": {},
   "outputs": [
    {
     "name": "stdout",
     "output_type": "stream",
     "text": [
      "1250\n",
      "1000\n"
     ]
    }
   ],
   "source": [
    "total_sales_A = sales_data['Product_A'].sum()\n",
    "total_sales_B = sales_data['Product_B'].sum()\n",
    "print(total_sales_A)\n",
    "print(total_sales_B)"
   ]
  },
  {
   "cell_type": "code",
   "execution_count": 28,
   "id": "3f8410a5-ffcd-4912-9140-43b69009fbbb",
   "metadata": {},
   "outputs": [
    {
     "name": "stdout",
     "output_type": "stream",
     "text": [
      "May\n"
     ]
    }
   ],
   "source": [
    "highest_sales_A_mon\n",
    "th = sales_data.loc[sales_data['Product_A'].idxmax(), 'Month']\n",
    "print(highest_sales_A_month)"
   ]
  },
  {
   "cell_type": "code",
   "execution_count": 30,
   "id": "1923fc5b-4d1a-4d0f-a79b-a676686687fe",
   "metadata": {},
   "outputs": [
    {
     "name": "stdout",
     "output_type": "stream",
     "text": [
      "  Month  Product_A  Product_B  Total_sales\n",
      "0   Jan        150        300          450\n",
      "1   Feb        200        250          450\n",
      "2   Mar        250        200          450\n",
      "3   Apr        300        150          450\n",
      "4   May        350        100          450\n"
     ]
    }
   ],
   "source": [
    "sales_data['Total_sales'] = sales_data['Product_A']+sales_data['Product_B']\n",
    "print(sales_data)"
   ]
  },
  {
   "cell_type": "code",
   "execution_count": 31,
   "id": "65f739f0-71d3-40a1-bd68-057c07392e63",
   "metadata": {},
   "outputs": [
    {
     "name": "stdout",
     "output_type": "stream",
     "text": [
      "  Month  Product_A  Product_B  Total_sales  Normalized_Product_A\n",
      "0   Jan        150        300          450              0.428571\n",
      "1   Feb        200        250          450              0.571429\n",
      "2   Mar        250        200          450              0.714286\n",
      "3   Apr        300        150          450              0.857143\n",
      "4   May        350        100          450              1.000000\n"
     ]
    }
   ],
   "source": [
    "sales_data['Normalized_Product_A'] = sales_data['Product_A']/ sales_data['Product_A'].max()\n",
    "print(sales_data)"
   ]
  },
  {
   "cell_type": "code",
   "execution_count": 33,
   "id": "af8980a0-0ae6-4f7f-b453-e493a306ed77",
   "metadata": {},
   "outputs": [
    {
     "name": "stdout",
     "output_type": "stream",
     "text": [
      "  Month  Product_A  Product_B  Total_sales  Normalized_Product_A\n",
      "0   Jan        150        300          450              0.428571\n",
      "1   Feb        200        250          450              0.571429\n",
      "2   Mar        250        200          450              0.714286\n",
      "3   Apr        300        150          450              0.857143\n",
      "4   May        350        100          450              1.000000\n"
     ]
    }
   ],
   "source": [
    "highest_sales = sales_data[sales_data['Total_sales'] > 400]\n",
    "print(highest_sales)"
   ]
  },
  {
   "cell_type": "code",
   "execution_count": 34,
   "id": "40713b61-d66d-4c4f-b008-0d0552cd7a2d",
   "metadata": {},
   "outputs": [],
   "source": [
    "customer_data = pd.DataFrame({\n",
    "    'CustomerID': [1, 2, 3, 4, 5],\n",
    "    'Name': ['John', 'Jane', None, 'Alice', 'Bob'],\n",
    "    'Purchase': [200, 300, 150, None, 500]\n",
    "})"
   ]
  },
  {
   "cell_type": "code",
   "execution_count": 35,
   "id": "4a8fdff6-8fa2-42b4-9f32-02918b77e9e0",
   "metadata": {},
   "outputs": [
    {
     "name": "stdout",
     "output_type": "stream",
     "text": [
      "CustomerID    0\n",
      "Name          1\n",
      "Purchase      1\n",
      "dtype: int64\n"
     ]
    }
   ],
   "source": [
    "missing_values = customer_data.isnull().sum()\n",
    "print(missing_values)"
   ]
  },
  {
   "cell_type": "code",
   "execution_count": 36,
   "id": "79d4ef20-6bed-4a93-913b-6730c7bbd4ed",
   "metadata": {},
   "outputs": [
    {
     "name": "stdout",
     "output_type": "stream",
     "text": [
      "   CustomerID     Name  Purchase\n",
      "0           1     John     200.0\n",
      "1           2     Jane     300.0\n",
      "2           3  Unknown     150.0\n",
      "3           4    Alice       NaN\n",
      "4           5      Bob     500.0\n"
     ]
    },
    {
     "name": "stderr",
     "output_type": "stream",
     "text": [
      "C:\\Users\\HDC0422079\\AppData\\Local\\Temp\\ipykernel_12472\\1221914968.py:1: FutureWarning: A value is trying to be set on a copy of a DataFrame or Series through chained assignment using an inplace method.\n",
      "The behavior will change in pandas 3.0. This inplace method will never work because the intermediate object on which we are setting values always behaves as a copy.\n",
      "\n",
      "For example, when doing 'df[col].method(value, inplace=True)', try using 'df.method({col: value}, inplace=True)' or df[col] = df[col].method(value) instead, to perform the operation inplace on the original object.\n",
      "\n",
      "\n",
      "  customer_data['Name'].fillna('Unknown', inplace = True)\n"
     ]
    }
   ],
   "source": [
    "customer_data['Name'].fillna('Unknown', inplace = True)\n",
    "print(customer_data)"
   ]
  },
  {
   "cell_type": "code",
   "execution_count": 38,
   "id": "6c11aa9f-9d29-4a0e-bd04-7ff187627079",
   "metadata": {},
   "outputs": [
    {
     "name": "stdout",
     "output_type": "stream",
     "text": [
      "   CustomerID     Name  Purchase\n",
      "0           1     John     200.0\n",
      "1           2     Jane     300.0\n",
      "2           3  Unknown     150.0\n",
      "3           4    Alice     250.0\n",
      "4           5      Bob     500.0\n"
     ]
    },
    {
     "name": "stderr",
     "output_type": "stream",
     "text": [
      "C:\\Users\\HDC0422079\\AppData\\Local\\Temp\\ipykernel_12472\\587324257.py:1: FutureWarning: A value is trying to be set on a copy of a DataFrame or Series through chained assignment using an inplace method.\n",
      "The behavior will change in pandas 3.0. This inplace method will never work because the intermediate object on which we are setting values always behaves as a copy.\n",
      "\n",
      "For example, when doing 'df[col].method(value, inplace=True)', try using 'df.method({col: value}, inplace=True)' or df[col] = df[col].method(value) instead, to perform the operation inplace on the original object.\n",
      "\n",
      "\n",
      "  customer_data['Purchase'].fillna(customer_data['Purchase'].median(), inplace = True)\n"
     ]
    }
   ],
   "source": [
    "customer_data['Purchase'].fillna(customer_data['Purchase'].median(), inplace = True)\n",
    "print(customer_data)"
   ]
  },
  {
   "cell_type": "code",
   "execution_count": 39,
   "id": "9ef908a0-ca96-4d2a-8e75-c7549c00b8b4",
   "metadata": {},
   "outputs": [],
   "source": [
    "customer_data.dropna(inplace = True)"
   ]
  },
  {
   "cell_type": "code",
   "execution_count": 40,
   "id": "8ca5f129-8511-45a9-a7be-7e96e9f2647d",
   "metadata": {},
   "outputs": [
    {
     "name": "stdout",
     "output_type": "stream",
     "text": [
      "   CustomerID     Name  Purchase\n",
      "0           1     John     200.0\n",
      "1           2     Jane     300.0\n",
      "2           3  Unknown     150.0\n",
      "3           4    Alice     250.0\n",
      "4           5      Bob     500.0\n"
     ]
    }
   ],
   "source": [
    "print(customer_data)"
   ]
  },
  {
   "cell_type": "code",
   "execution_count": 41,
   "id": "d2dbfe69-070c-4681-807e-09f8b62e9440",
   "metadata": {},
   "outputs": [
    {
     "name": "stdout",
     "output_type": "stream",
     "text": [
      "   CustomerID  Name  Purchase\n",
      "1           2  Jane     300.0\n",
      "4           5   Bob     500.0\n"
     ]
    }
   ],
   "source": [
    "median_purchase = customer_data['Purchase'].median()\n",
    "high_purchase_customers = customer_data[customer_data['Purchase'] > median_purchase]\n",
    "print(high_purchase_customers)"
   ]
  },
  {
   "cell_type": "code",
   "execution_count": 42,
   "id": "c5074b85-a2df-456c-92a8-5255a42521f2",
   "metadata": {},
   "outputs": [],
   "source": [
    "temperature = pd.Series([23, 21, 20, 25, 27, 30, 28, 22, 24, 26])"
   ]
  },
  {
   "cell_type": "code",
   "execution_count": 44,
   "id": "99580739-0188-4cff-85cd-927e0c17ff46",
   "metadata": {},
   "outputs": [
    {
     "name": "stdout",
     "output_type": "stream",
     "text": [
      "24.6\n",
      "24.5\n",
      "10.266666666666666\n"
     ]
    }
   ],
   "source": [
    "mean_temp = temperature.mean()\n",
    "median_temp = temperature.median()\n",
    "variance = temperature.var()\n",
    "print(mean_temp)\n",
    "print(median_temp)\n",
    "print(variance)"
   ]
  },
  {
   "cell_type": "code",
   "execution_count": 45,
   "id": "7eb73635-7382-4783-bd4f-3d3bf0987950",
   "metadata": {},
   "outputs": [
    {
     "name": "stdout",
     "output_type": "stream",
     "text": [
      "0    False\n",
      "1    False\n",
      "2    False\n",
      "3     True\n",
      "4     True\n",
      "5     True\n",
      "6     True\n",
      "7    False\n",
      "8    False\n",
      "9     True\n",
      "dtype: bool\n"
     ]
    }
   ],
   "source": [
    "above_mean = temperature > mean_temp\n",
    "print(above_mean)"
   ]
  },
  {
   "cell_type": "code",
   "execution_count": 46,
   "id": "5e2450b2-c0a3-48fb-915a-d1b8c8d0171e",
   "metadata": {},
   "outputs": [
    {
     "name": "stdout",
     "output_type": "stream",
     "text": [
      "0    296.15\n",
      "1    294.15\n",
      "2    293.15\n",
      "3    298.15\n",
      "4    300.15\n",
      "5    303.15\n",
      "6    301.15\n",
      "7    295.15\n",
      "8    297.15\n",
      "9    299.15\n",
      "dtype: float64\n"
     ]
    }
   ],
   "source": [
    "temperature_Kelvin = temperature + 273.15\n",
    "print(temperature_Kelvin)"
   ]
  },
  {
   "cell_type": "code",
   "execution_count": 48,
   "id": "24fce68e-1b6f-46fc-82e5-1c3939f9d3c3",
   "metadata": {
    "scrolled": true
   },
   "outputs": [
    {
     "name": "stdout",
     "output_type": "stream",
     "text": [
      "0          NaN\n",
      "1          NaN\n",
      "2    21.333333\n",
      "3    22.000000\n",
      "4    24.000000\n",
      "5    27.333333\n",
      "6    28.333333\n",
      "7    26.666667\n",
      "8    24.666667\n",
      "9    24.000000\n",
      "dtype: float64\n"
     ]
    }
   ],
   "source": [
    "rolling_mean = temperature.rolling(window = 3).mean()\n",
    "print(rolling_mean)"
   ]
  },
  {
   "cell_type": "code",
   "execution_count": 49,
   "id": "74a52d68-8a77-49a3-a81b-58760052f83b",
   "metadata": {},
   "outputs": [
    {
     "name": "stdout",
     "output_type": "stream",
     "text": [
      "1    21\n",
      "2    20\n",
      "5    30\n",
      "6    28\n",
      "dtype: int64\n"
     ]
    }
   ],
   "source": [
    "std_dev = temperature.std()\n",
    "filtered_temperatures = temperature[(temperature < mean_temp - std_dev) | (temperature > mean_temp + std_dev)]\n",
    "print(filtered_temperatures)"
   ]
  },
  {
   "cell_type": "code",
   "execution_count": 50,
   "id": "95edb2e3-c98a-410a-b189-35b945c1156d",
   "metadata": {},
   "outputs": [],
   "source": [
    "orders = pd.DataFrame({\n",
    "    'OrderID': [1, 2, 3, 4, 5],\n",
    "    'CustomerID': [101, 102, 103, 104, 101],\n",
    "    'Product': ['A', 'B', 'A', 'C', 'B'],\n",
    "    'Quantity': [2, 1, 4, 2, 3]\n",
    "})"
   ]
  },
  {
   "cell_type": "code",
   "execution_count": 51,
   "id": "0c40d24a-0ddf-48f6-9182-b5c85e85c01c",
   "metadata": {},
   "outputs": [],
   "source": [
    "customers = pd.DataFrame({\n",
    "    'CustomerID': [101, 102, 103, 104],\n",
    "    'Name': ['Alice', 'Bob', 'Charlie', 'David'],\n",
    "    'Location': ['New York', 'Los Angeles', 'Chicago', 'Houston']\n",
    "})"
   ]
  },
  {
   "cell_type": "code",
   "execution_count": 53,
   "id": "10db6d4a-a1fd-4d4b-b064-fd23fdb37fc0",
   "metadata": {},
   "outputs": [
    {
     "name": "stdout",
     "output_type": "stream",
     "text": [
      "   OrderID  CustomerID Product  Quantity     Name     Location\n",
      "0        1         101       A         2    Alice     New York\n",
      "1        2         102       B         1      Bob  Los Angeles\n",
      "2        3         103       A         4  Charlie      Chicago\n",
      "3        4         104       C         2    David      Houston\n",
      "4        5         101       B         3    Alice     New York\n"
     ]
    }
   ],
   "source": [
    "merged_df = pd.merge(orders, customers, on='CustomerID')\n",
    "print(merged_df)"
   ]
  },
  {
   "cell_type": "code",
   "execution_count": 56,
   "id": "3a089e96-e269-4347-85c2-91bc63bad5c2",
   "metadata": {},
   "outputs": [
    {
     "name": "stdout",
     "output_type": "stream",
     "text": [
      "  Product  Quantity\n",
      "0       A         6\n",
      "1       B         4\n",
      "2       C         2\n"
     ]
    }
   ],
   "source": [
    "quantity_by_location = merged_df.groupby('Product')['Quantity'].sum().reset_index()\n",
    "print(quantity_by_location)"
   ]
  },
  {
   "cell_type": "code",
   "execution_count": 63,
   "id": "717c4bfa-2c4f-43fb-941b-bf41167c1c03",
   "metadata": {},
   "outputs": [
    {
     "name": "stdout",
     "output_type": "stream",
     "text": [
      "Alice\n"
     ]
    }
   ],
   "source": [
    "highest_order_customer = merged_df['CustomerID'].value_counts().idxmax()\n",
    "highest_order_customer_name = customers[customers['CustomerID'] == highest_order_customer]['Name'].values[0]\n",
    "print(highest_order_customer_name)\n"
   ]
  },
  {
   "cell_type": "code",
   "execution_count": 66,
   "id": "dd3b532d-3682-4049-8eb0-f66b70bd435a",
   "metadata": {},
   "outputs": [
    {
     "name": "stdout",
     "output_type": "stream",
     "text": [
      "   OrderID  CustomerID Product  Quantity     Name     Location  Total_Quantity\n",
      "0        1         101       A         2    Alice     New York               2\n",
      "1        2         102       B         1      Bob  Los Angeles               1\n",
      "2        3         103       A         4  Charlie      Chicago               6\n",
      "3        4         104       C         2    David      Houston               2\n",
      "4        5         101       B         3    Alice     New York               4\n"
     ]
    }
   ],
   "source": [
    "merged_df['Total_Quantity'] = merged_df.groupby('Product')['Quantity'].cumsum()\n",
    "print(merged_df)"
   ]
  },
  {
   "cell_type": "code",
   "execution_count": 67,
   "id": "75be27bd-27f9-41b2-97a1-0d62e9b9b141",
   "metadata": {},
   "outputs": [
    {
     "name": "stdout",
     "output_type": "stream",
     "text": [
      "   OrderID  CustomerID Product  Quantity     Name     Location  Total_Quantity\n",
      "0        1         101       A         2    Alice     New York               2\n",
      "1        2         102       B         1      Bob  Los Angeles               1\n",
      "2        3         103       A         4  Charlie      Chicago               6\n",
      "4        5         101       B         3    Alice     New York               4\n"
     ]
    }
   ],
   "source": [
    "filtered_orders = merged_df[merged_df['Product'].isin(['A','B'])]\n",
    "print(filtered_orders)"
   ]
  },
  {
   "cell_type": "code",
   "execution_count": null,
   "id": "a5210d2c-5708-4b68-8750-0d564533aae9",
   "metadata": {},
   "outputs": [],
   "source": []
  }
 ],
 "metadata": {
  "kernelspec": {
   "display_name": "Python 3 (ipykernel)",
   "language": "python",
   "name": "python3"
  },
  "language_info": {
   "codemirror_mode": {
    "name": "ipython",
    "version": 3
   },
   "file_extension": ".py",
   "mimetype": "text/x-python",
   "name": "python",
   "nbconvert_exporter": "python",
   "pygments_lexer": "ipython3",
   "version": "3.12.4"
  }
 },
 "nbformat": 4,
 "nbformat_minor": 5
}
